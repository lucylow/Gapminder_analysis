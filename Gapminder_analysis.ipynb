{
 "cells": [
  {
   "cell_type": "markdown",
   "metadata": {},
   "source": [
    "# Gapminder Data Analysis\n",
    "\n",
    "The dataset used for this notebook was obtained from [gapminder.org](http://www.gapminder.org/data/) with the following information:\n",
    "\n",
    "* Aged 15+ Employment Rate (%)\n",
    "* Life Expectancy (years)\n",
    "* GDP/capita (US$, inflation adjusted)\n",
    "* Primary school completion (% of boys)\n",
    "* Primary school completion (% of girls)\n",
    "\n",
    "###### Summary \n",
    "* 1) Import and clean data\n",
    "    * import data \n",
    "    * worldwide data\n",
    "    * canadian data\n",
    "   \n",
    "* 2) Explore Data\n",
    "    * summary statistics canada vs worldwide\n",
    "        * employment rate \n",
    "        * life expectancy \n",
    "        * GDP\n",
    "        * male school completion\n",
    "        * female school completion \n",
    "    * correlations canada vs worldwide\n",
    "        * life expectancy and GDP \n",
    "        * gender and school completion \n",
    "    * compare canada and worldwide data \n",
    "        * standardizing the data point\n",
    "        * time series graphs\n",
    "  \n",
    "* 3) Conclusions\n",
    "\n",
    "# 1) Import and Clean Data\n",
    "\n",
    "###### Import Data"
   ]
  },
  {
   "cell_type": "code",
   "execution_count": 1,
   "metadata": {
    "scrolled": true
   },
   "outputs": [
    {
     "name": "stdout",
     "output_type": "stream",
     "text": [
      "Populating the interactive namespace from numpy and matplotlib\n"
     ]
    }
   ],
   "source": [
    "# Libraries \n",
    "import numpy as np\n",
    "import pandas as pd\n",
    "import seaborn as sns\n",
    "import matplotlib.pyplot as plt\n",
    "%pylab inline\n",
    "\n",
    "# Read worldwide data into Pandas DataFrames with index column as country \n",
    "employment = pd.read_csv('employment_above_15.csv', index_col='Country')\n",
    "female_completion = pd.read_csv('female_completion_rate.csv', index_col='Country')\n",
    "male_completion = pd.read_csv('male_completion_rate.csv', index_col='Country')\n",
    "life_expectancy = pd.read_csv('life_expectancy.csv', index_col='Country')\n",
    "gdp = pd.read_csv('gdp_per_capita.csv', index_col='Country')\n",
    "\n",
    "# Data specific to index Canada:\n",
    "# Use .loc to look up values in pd series by index and .iloc for position \n",
    "employment_ca = employment.loc['Canada'].round(2)\n",
    "# Drop NAN from the male/female data series \n",
    "female_completion_ca = female_completion.loc['Canada'].dropna().round(2)\n",
    "male_completion_ca = male_completion.loc['Canada'].dropna().round(2)\n",
    "life_expectancy_ca = life_expectancy.loc['Canada'].round(2)\n",
    "gdp_ca = gdp.loc['Canada'].round(2)"
   ]
  },
  {
   "cell_type": "markdown",
   "metadata": {},
   "source": [
    "#### Worldwide Data"
   ]
  },
  {
   "cell_type": "code",
   "execution_count": 2,
   "metadata": {
    "scrolled": true
   },
   "outputs": [
    {
     "name": "stdout",
     "output_type": "stream",
     "text": [
      "['Afghanistan' 'Albania' 'Algeria' 'Angola' 'Argentina' 'Armenia'\n",
      " 'Australia' 'Austria' 'Azerbaijan' 'Bahamas' 'Bahrain' 'Bangladesh'\n",
      " 'Barbados' 'Belarus' 'Belgium' 'Belize' 'Benin' 'Bhutan' 'Bolivia'\n",
      " 'Bosnia and Herzegovina' 'Botswana' 'Brazil' 'Brunei' 'Bulgaria'\n",
      " 'Burkina Faso' 'Burundi' 'Cambodia' 'Cameroon' 'Canada' 'Cape Verde'\n",
      " 'Central African Rep.' 'Chad' 'Chile' 'China' 'Colombia' 'Comoros'\n",
      " 'Congo, Rep.' 'Congo, Dem. Rep.' 'Costa Rica' \"Cote d'Ivoire\" 'Croatia'\n",
      " 'Cuba' 'Cyprus' 'Czech Rep.' 'Denmark' 'Dominican Rep.' 'Timor-Leste'\n",
      " 'Ecuador' 'Egypt' 'El Salvador' 'Equatorial Guinea' 'Eritrea' 'Estonia'\n",
      " 'Ethiopia' 'Fiji' 'Finland' 'France' 'Gabon' 'Gambia' 'Georgia' 'Germany'\n",
      " 'Ghana' 'Greece' 'Guadeloupe' 'Guatemala' 'Guinea' 'Guinea-Bissau'\n",
      " 'Guyana' 'Haiti' 'Honduras' 'Hong Kong, China' 'Hungary' 'Iceland' 'India'\n",
      " 'Indonesia' 'Iran' 'Iraq' 'Ireland' 'Israel' 'Italy' 'Jamaica' 'Japan'\n",
      " 'Jordan' 'Kazakhstan' 'Kenya' 'Korea, Dem. Rep.' 'Korea, Rep.' 'Kuwait'\n",
      " 'Kyrgyzstan' 'Laos' 'Latvia' 'Lebanon' 'Lesotho' 'Liberia' 'Libya'\n",
      " 'Lithuania' 'Luxembourg' 'Macao, China' 'Madagascar' 'Malawi' 'Malaysia'\n",
      " 'Maldives' 'Mali' 'Malta' 'Martinique' 'Mauritania' 'Mauritius' 'Mexico'\n",
      " 'Mongolia' 'Morocco' 'Mozambique' 'Myanmar' 'Namibia' 'Nepal'\n",
      " 'Netherlands' 'Netherlands Antilles' 'New Zealand' 'Nicaragua' 'Niger'\n",
      " 'Nigeria' 'Norway' 'Oman' 'Pakistan' 'Panama' 'Papua New Guinea'\n",
      " 'Paraguay' 'Peru' 'Philippines' 'Poland' 'Portugal' 'Puerto Rico' 'Qatar'\n",
      " 'Moldova' 'Reunion' 'Romania' 'Russia' 'Rwanda' 'Saudi Arabia' 'Senegal'\n",
      " 'Serbia and Montenegro' 'Sierra Leone' 'Singapore' 'Slovak Republic'\n",
      " 'Slovenia' 'Solomon Islands' 'Somalia' 'South Africa' 'Spain' 'Sri Lanka'\n",
      " 'Sudan' 'Suriname' 'Swaziland' 'Sweden' 'Switzerland' 'Syria' 'Taiwan'\n",
      " 'Tajikistan' 'Tanzania' 'Thailand' 'Macedonia, FYR' 'Togo'\n",
      " 'Trinidad and Tobago' 'Tunisia' 'Turkey' 'Turkmenistan' 'Uganda' 'Ukraine'\n",
      " 'United Arab Emirates' 'United Kingdom' 'United States' 'Uruguay'\n",
      " 'Uzbekistan' 'Venezuela' 'Vietnam' 'West Bank and Gaza' 'Yemen, Rep.'\n",
      " 'Zambia' 'Zimbabwe']\n",
      "Number of countries in dataset:  178\n"
     ]
    }
   ],
   "source": [
    "# Print all countries avaliable in worldwide data \n",
    "print employment.index.values\n",
    "print \"Number of countries in dataset: \",len(employment.index.values)"
   ]
  },
  {
   "cell_type": "markdown",
   "metadata": {},
   "source": [
    "From this data analysis, we will be using data from 178 countries to represent \"worldwide\" trends which should be sufficent."
   ]
  },
  {
   "cell_type": "markdown",
   "metadata": {},
   "source": [
    "#### Canadian Data\n",
    "\n",
    "When we were cleaning the data, we removed all the NAN values from male and female school completion rates which left us with only 4 data points for Canada. All floating point data types."
   ]
  },
  {
   "cell_type": "code",
   "execution_count": 3,
   "metadata": {},
   "outputs": [
    {
     "name": "stdout",
     "output_type": "stream",
     "text": [
      "['1991' '1992' '1993' '1994' '1995' '1996' '1997' '1998' '1999' '2000'\n",
      " '2001' '2002' '2003' '2004' '2005' '2006' '2007']\n",
      "Employment data points for Canada: 17\n"
     ]
    },
    {
     "data": {
      "text/plain": [
       "dtype('float64')"
      ]
     },
     "execution_count": 3,
     "metadata": {},
     "output_type": "execute_result"
    }
   ],
   "source": [
    "print employment_ca.index.values\n",
    "print \"Employment data points for Canada:\", len(employment_ca.index.values)\n",
    "employment_ca.dtype"
   ]
  },
  {
   "cell_type": "code",
   "execution_count": 4,
   "metadata": {
    "scrolled": true
   },
   "outputs": [
    {
     "name": "stdout",
     "output_type": "stream",
     "text": [
      "[ 94.94  96.47  97.74  95.51]\n"
     ]
    },
    {
     "data": {
      "text/plain": [
       "dtype('float64')"
      ]
     },
     "execution_count": 4,
     "metadata": {},
     "output_type": "execute_result"
    }
   ],
   "source": [
    "print female_completion_ca.values\n",
    "female_completion_ca.dtype"
   ]
  },
  {
   "cell_type": "code",
   "execution_count": 5,
   "metadata": {},
   "outputs": [
    {
     "name": "stdout",
     "output_type": "stream",
     "text": [
      "[ 94.18  95.54  97.33  95.98]\n"
     ]
    },
    {
     "data": {
      "text/plain": [
       "dtype('float64')"
      ]
     },
     "execution_count": 5,
     "metadata": {},
     "output_type": "execute_result"
    }
   ],
   "source": [
    "print male_completion_ca.values\n",
    "male_completion_ca.dtype"
   ]
  },
  {
   "cell_type": "code",
   "execution_count": 6,
   "metadata": {},
   "outputs": [
    {
     "name": "stdout",
     "output_type": "stream",
     "text": [
      "[ 39.    39.    39.    39.    39.01  39.01  39.01  39.01  39.01  39.01\n",
      "  39.01  39.02  39.02  39.02  39.02  39.02  39.02  39.03  39.03  39.03\n",
      "  39.03  39.03  39.03  39.03  39.04  39.04  39.04  39.04  39.04  39.04\n",
      "  39.04  39.05  39.17  39.3   39.43  39.55  39.68  39.81  39.94  40.06\n",
      "  40.19  40.32  40.39  40.47  40.54  40.61  40.69  40.76  40.84  40.91\n",
      "  40.99  41.06  41.11  41.17  41.22  41.27  41.33  41.38  41.43  41.49\n",
      "  41.54  41.6   41.69  41.79  41.88  41.98  42.08  42.17  42.27  42.36\n",
      "  42.46  42.56  42.77  42.99  43.21  43.43  43.64  43.86  44.08  44.3\n",
      "  44.51  44.73  44.77  44.82  44.86  44.91  44.95  45.    45.04  45.09\n",
      "  45.13  45.17  45.52  45.87  46.21  46.56  46.9   47.25  47.6   47.94\n",
      "  48.29  48.63  49.02  49.41  49.8   50.18  50.57  50.96  51.35  51.74\n",
      "  52.12  52.51  52.96  53.41  53.86  54.31  54.77  55.22  47.17  56.12\n",
      "  56.57  57.02  57.02  57.02  58.83  59.31  57.99  58.68  58.57  57.97\n",
      "  58.95  60.36  61.43  62.36  62.77  62.49  62.72  61.35  63.31  63.74\n",
      "  64.01  63.76  64.7   64.61  65.35  66.33  66.53  66.78  67.33  67.65\n",
      "  68.28  68.55  68.75  69.13  69.99  70.05  70.04  69.96  70.62  70.66\n",
      "  71.04  71.27  71.3   71.31  71.69  71.79  71.92  72.13  72.29  72.45\n",
      "  72.65  72.98  72.88  73.11  73.19  73.49  73.92  74.21  74.54  74.9\n",
      "  75.14  77.4   77.6   77.7   77.8   77.9   78.    78.3   78.7   78.9   79.1\n",
      "  79.3   79.5   79.7   79.9   80.1   80.3   80.5   80.6   80.7   80.9   81.1\n",
      "  81.3   81.4   81.5 ]\n",
      "Life expectancy data points for Canada: 205\n"
     ]
    },
    {
     "data": {
      "text/plain": [
       "dtype('float64')"
      ]
     },
     "execution_count": 6,
     "metadata": {},
     "output_type": "execute_result"
    }
   ],
   "source": [
    "print life_expectancy_ca.values\n",
    "print \"Life expectancy data points for Canada:\", len(life_expectancy_ca.index.values)\n",
    "life_expectancy_ca.dtype"
   ]
  },
  {
   "cell_type": "code",
   "execution_count": 7,
   "metadata": {},
   "outputs": [
    {
     "name": "stdout",
     "output_type": "stream",
     "text": [
      "[  9374.88   9479.82   9967.37  10290.36  10774.65  11283.61  11804.67\n",
      "  11932.17  12362.93  12837.47  12986.31  13320.19  13823.29  14537.59\n",
      "  14806.31  14793.71  15358.41  15703.9   16161.77  16610.17  16751.34\n",
      "  17124.39  16435.47  16713.7   17516.24  18183.73  18437.71  18971.41\n",
      "  19659.67  19817.99  19561.88  18893.8   18826.66  19057.23  19781.71\n",
      "  20169.54  20276.45  20911.11  21580.32  22586.44  23559.5   23738.9\n",
      "  24214.93  24425.88  24936.83  25437.65  25943.74  26229.74  26101.76\n",
      "  25069.87  25575.22  25933.29]\n",
      "GDP data points for Canada: 52\n"
     ]
    },
    {
     "data": {
      "text/plain": [
       "dtype('float64')"
      ]
     },
     "execution_count": 7,
     "metadata": {},
     "output_type": "execute_result"
    }
   ],
   "source": [
    "print gdp_ca.values\n",
    "print \"GDP data points for Canada:\", len(gdp_ca.index.values)\n",
    "gdp_ca.dtype"
   ]
  },
  {
   "cell_type": "markdown",
   "metadata": {},
   "source": [
    "# Explore Data \n",
    "\n",
    "#### Summary Statistics Canada vs Worldwide"
   ]
  },
  {
   "cell_type": "code",
   "execution_count": 18,
   "metadata": {},
   "outputs": [
    {
     "name": "stdout",
     "output_type": "stream",
     "text": [
      "Employment CA: Mean: 60.1470588235\n",
      "Standard deviation: 1.91086290948\n",
      "Max: 63.5\n",
      "Sum: 1022.5\n",
      "None\n",
      "Female school completion rates CA: Mean: 96.165\n",
      "Standard deviation: 1.22519386221\n",
      "Max: 97.74\n",
      "Sum: 384.66\n",
      "None\n",
      "Male school completion rates CA: Mean: 95.7575\n",
      "Standard deviation: 1.2984702538\n",
      "Max: 97.33\n",
      "Sum: 383.03\n",
      "None\n",
      "Life expectancy CA: Mean: 54.486195122\n",
      "Standard deviation: 14.7185819983\n",
      "Max: 81.5\n",
      "Sum: 11169.67\n",
      "None\n",
      "GDP CA: Mean: 18089.1092308\n",
      "Standard deviation: 5057.09836739\n",
      "Max: 26229.74\n",
      "Sum: 940633.68\n",
      "None\n"
     ]
    },
    {
     "data": {
      "text/plain": [
       "' \\nprint \"Employment worldwide:\", sum_stats(employment)\\nprint \"Female school completion rates worldwide:\", sum_stats(female_completion)\\nprint \"Male school completion rates worldwide:\", sum_stats(male_completion)\\nprint \"Life expectancy worldwide:\", sum_stats(life_expectancy)\\nprint \"GDP worldwide:\", sum_stats(gdp)\\n'"
      ]
     },
     "execution_count": 18,
     "metadata": {},
     "output_type": "execute_result"
    }
   ],
   "source": [
    "def sum_stats(index):\n",
    "    sum_mean = index.mean()\n",
    "    sum_std = index.std()\n",
    "    sum_max = index.max()\n",
    "    sum_sum = index.sum()\n",
    "    print \"Mean:\", sum_mean\n",
    "    print \"Standard deviation:\", sum_std\n",
    "    print \"Max:\", sum_max\n",
    "    print \"Sum:\", sum_sum\n",
    "\n",
    "# Canada \n",
    "print \"Employment CA:\", sum_stats(employment_ca)\n",
    "print \"Female school completion rates CA:\", sum_stats(female_completion_ca)\n",
    "print \"Male school completion rates CA:\", sum_stats(male_completion_ca)\n",
    "print \"Life expectancy CA:\", sum_stats(life_expectancy_ca)\n",
    "print \"GDP CA:\", sum_stats(gdp_ca)\n",
    "\n",
    "# Worldwide \n",
    "''' \n",
    "print \"Employment worldwide:\", sum_stats(employment)\n",
    "print \"Female school completion rates worldwide:\", sum_stats(female_completion)\n",
    "print \"Male school completion rates worldwide:\", sum_stats(male_completion)\n",
    "print \"Life expectancy worldwide:\", sum_stats(life_expectancy)\n",
    "print \"GDP worldwide:\", sum_stats(gdp)\n",
    "''' "
   ]
  },
  {
   "cell_type": "markdown",
   "metadata": {},
   "source": [
    "#### Worldwide: The countries with the highest and lowest employment rates"
   ]
  },
  {
   "cell_type": "code",
   "execution_count": 23,
   "metadata": {},
   "outputs": [],
   "source": [
    "# Instead of using data from all 178 countries, we will sample the first 20 countries\n",
    "\n",
    "countries = ['Albania', 'Algeria', 'Andorra', 'Angola', 'Antigua and Barbuda',\n",
    "             'Argentina', 'Armenia', 'Australia', 'Austria', 'Azerbaijan',\n",
    "             'Bahamas', 'Bahrain', 'Bangladesh', 'Barbados', 'Belarus',\n",
    "             'Belgium', 'Belize', 'Benin', 'Bhutan', 'Bolivia']\n",
    "\n",
    "employment_values = [\n",
    "    55.70000076,  51.40000153,  50.5       ,  75.69999695,\n",
    "    58.40000153,  40.09999847,  61.5       ,  57.09999847,\n",
    "    60.90000153,  66.59999847,  60.40000153,  68.09999847,\n",
    "    66.90000153,  53.40000153,  48.59999847,  56.79999924,\n",
    "    71.59999847,  58.40000153,  70.40000153,  41.20000076,\n",
    "]\n",
    "\n",
    "life_expectancy_values = [74.7,  75. ,  83.4,  57.6,  74.6,  75.4,  72.3,  81.5,  80.2,\n",
    "                          70.3,  72.1,  76.4,  68.1,  75.2,  69.8,  79.4,  70.8,  62.7,\n",
    "                          67.3,  70.6]\n",
    "\n",
    "gdp_values = [ 1681.61390973,   2155.48523109,  21495.80508273,    562.98768478,\n",
    "              13495.1274663 ,   9388.68852258,   1424.19056199,  24765.54890176,\n",
    "              27036.48733192,   1945.63754911,  21721.61840978,  13373.21993972,\n",
    "                483.97086804,   9783.98417323,   2253.46411147,  25034.66692293,\n",
    "               3680.91642923,    366.04496652,   1175.92638695,   1132.21387981]\n",
    "\n",
    "female_completion = np.array([\n",
    "    97.35583,  104.62379,  103.02998,   95.14321,  103.69019,\n",
    "    98.49185,  100.88828,   95.43974,   92.11484,   91.54804,\n",
    "    95.98029,   98.22902,   96.12179,  119.28105,   97.84627,\n",
    "    29.07386,   38.41644,   90.70509,   51.7478 ,   95.45072\n",
    "])\n",
    "\n",
    "male_completion = np.array([\n",
    "     95.47622,  100.66476,   99.7926 ,   91.48936,  103.22096,\n",
    "     97.80458,  103.81398,   88.11736,   93.55611,   87.76347,\n",
    "    102.45714,   98.73953,   92.22388,  115.3892 ,   98.70502,\n",
    "     37.00692,   45.39401,   91.22084,   62.42028,   90.66958\n",
    "])\n",
    "\n",
    "\n",
    "employment = pd.Series(employment_values, index=countries)\n",
    "life_expectancy = pd.Series(life_expectancy_values, index=countries)\n",
    "gdp_completion = pd.Series(gdp_values, index=countries)\n",
    "female_completion = pd.Series(female_completion, index=countries)\n",
    "male_completion = pd.Series(male_completion, index=countries)"
   ]
  },
  {
   "cell_type": "code",
   "execution_count": 33,
   "metadata": {},
   "outputs": [
    {
     "name": "stdout",
     "output_type": "stream",
     "text": [
      "('Angola', 75.699996949999999) ('Argentina', 40.099998470000003)\n",
      "('Andorra', 83.400000000000006) ('Angola', 57.600000000000001)\n",
      "('Austria', 27036.487331920001) ('Benin', 366.04496652)\n"
     ]
    }
   ],
   "source": [
    "def max_variable(variable):\n",
    "    max_country = variable.argmax()           # argmax returns index of maximum value \n",
    "    max_value = variable.loc[max_country]     # get index value\n",
    "    return (max_country, max_value)\n",
    "\n",
    "def min_variable(variable):\n",
    "    min_country = variable.argmin()\n",
    "    min_value = variable.loc[min_country]\n",
    "    return (min_country, min_value)\n",
    "\n",
    "print max_variable(employment), min_variable(employment)\n",
    "print max_variable(life_expectancy), min_variable(life_expectancy)\n",
    "print max_variable(gdp_completion), min_variable(gdp_completion)\n",
    "# print max_variable(female_completion), min_variable(female_completion)\n",
    "# print max_variable(male_completion), min_variable(male_completion)"
   ]
  },
  {
   "cell_type": "markdown",
   "metadata": {},
   "source": [
    "### Gender and School Completion \n",
    "The overall school completion rate in each country and how it relates to gender.  "
   ]
  },
  {
   "cell_type": "code",
   "execution_count": 32,
   "metadata": {},
   "outputs": [
    {
     "name": "stdout",
     "output_type": "stream",
     "text": [
      "('Barbados', 119.28104999999999) ('Belgium', 29.07386)\n",
      "('Barbados', 115.3892) ('Belgium', 37.006920000000001)\n"
     ]
    },
    {
     "data": {
      "text/plain": [
       "Albania                 96.42\n",
       "Algeria                102.64\n",
       "Andorra                101.41\n",
       "Angola                  93.32\n",
       "Antigua and Barbuda    103.46\n",
       "Argentina               98.15\n",
       "Armenia                102.35\n",
       "Australia               91.78\n",
       "Austria                 92.84\n",
       "Azerbaijan              89.66\n",
       "Bahamas                 99.22\n",
       "Bahrain                 98.48\n",
       "Bangladesh              94.17\n",
       "Barbados               117.34\n",
       "Belarus                 98.28\n",
       "Belgium                 33.04\n",
       "Belize                  41.91\n",
       "Benin                   90.96\n",
       "Bhutan                  57.08\n",
       "Bolivia                 93.06\n",
       "dtype: float64"
      ]
     },
     "execution_count": 32,
     "metadata": {},
     "output_type": "execute_result"
    }
   ],
   "source": [
    "print max_variable(female_completion), min_variable(female_completion)\n",
    "print max_variable(male_completion), min_variable(male_completion)\n",
    "\n",
    "# Calculate the overall completion rate assuming 50/50 gender ratio \n",
    "def overall_completion_rate(female_completion, male_completion):\n",
    "    return (female_completion + male_completion)/2\n",
    "\n",
    "overall_completion_rate(female_completion, male_completion).round(2)"
   ]
  },
  {
   "cell_type": "markdown",
   "metadata": {},
   "source": [
    "### Standardizing Data \n",
    "\n",
    "We can standardize data for each country by comparing the single data point to the rest of the data points (first 20 countries). Specifically, we look at how a variable in Canada compares to other countries. We can convert each data point to the number of standard deviations from the mean. A positive value represents that a data point is above the mean, and a negative value represents that data point below the mean."
   ]
  },
  {
   "cell_type": "code",
   "execution_count": 39,
   "metadata": {},
   "outputs": [],
   "source": [
    "# Function takes in values array and standardizes the values\n",
    "def standardize_data(values):\n",
    "    standardized_values = (values - values.mean()) / values.std()\n",
    "    return standardized_values  # Outputs a numpy array "
   ]
  },
  {
   "cell_type": "code",
   "execution_count": 40,
   "metadata": {
    "scrolled": true
   },
   "outputs": [
    {
     "name": "stdout",
     "output_type": "stream",
     "text": [
      "Albania               -0.311559\n",
      "Algeria               -0.760370\n",
      "Andorra               -0.854307\n",
      "Angola                 1.775936\n",
      "Antigua and Barbuda   -0.029747\n",
      "Argentina             -1.939805\n",
      "Armenia                0.293815\n",
      "Australia             -0.165434\n",
      "Austria                0.231190\n",
      "Azerbaijan             0.826126\n",
      "Bahamas                0.179003\n",
      "Bahrain                0.982688\n",
      "Bangladesh             0.857439\n",
      "Barbados              -0.551620\n",
      "Belarus               -1.052619\n",
      "Belgium               -0.196746\n",
      "Belize                 1.348000\n",
      "Benin                 -0.029747\n",
      "Bhutan                 1.222750\n",
      "Bolivia               -1.824992\n",
      "dtype: float64\n"
     ]
    }
   ],
   "source": [
    "print standardize_data(employment)"
   ]
  },
  {
   "cell_type": "code",
   "execution_count": 41,
   "metadata": {},
   "outputs": [
    {
     "name": "stdout",
     "output_type": "stream",
     "text": [
      "Albania                0.334440\n",
      "Algeria                0.654398\n",
      "Andorra                0.584233\n",
      "Angola                 0.237034\n",
      "Antigua and Barbuda    0.613298\n",
      "Argentina              0.384451\n",
      "Armenia                0.489949\n",
      "Australia              0.250088\n",
      "Austria                0.103715\n",
      "Azerbaijan             0.078763\n",
      "Bahamas                0.273884\n",
      "Bahrain                0.372880\n",
      "Bangladesh             0.280114\n",
      "Barbados               1.299655\n",
      "Belarus                0.356030\n",
      "Belgium               -2.671540\n",
      "Belize                -2.260251\n",
      "Benin                  0.041654\n",
      "Bhutan                -1.673364\n",
      "Bolivia                0.250571\n",
      "dtype: float64\n"
     ]
    }
   ],
   "source": [
    "print standardize_data(female_completion)"
   ]
  },
  {
   "cell_type": "code",
   "execution_count": 42,
   "metadata": {},
   "outputs": [
    {
     "name": "stdout",
     "output_type": "stream",
     "text": [
      "Albania                0.291654\n",
      "Algeria                0.558076\n",
      "Andorra                0.513292\n",
      "Angola                 0.086936\n",
      "Antigua and Barbuda    0.689332\n",
      "Argentina              0.411211\n",
      "Armenia                0.719782\n",
      "Australia             -0.086210\n",
      "Austria                0.193060\n",
      "Azerbaijan            -0.104382\n",
      "Bahamas                0.650111\n",
      "Bahrain                0.459219\n",
      "Bangladesh             0.124652\n",
      "Barbados               1.314148\n",
      "Belarus                0.457447\n",
      "Belgium               -2.710635\n",
      "Belize                -2.279974\n",
      "Benin                  0.073148\n",
      "Bhutan                -1.405707\n",
      "Bolivia                0.044842\n",
      "dtype: float64\n"
     ]
    }
   ],
   "source": [
    "print standardize_data(male_completion)"
   ]
  },
  {
   "cell_type": "code",
   "execution_count": 43,
   "metadata": {},
   "outputs": [
    {
     "name": "stdout",
     "output_type": "stream",
     "text": [
      "Albania                0.294496\n",
      "Algeria                0.342774\n",
      "Andorra                1.694561\n",
      "Angola                -2.457355\n",
      "Antigua and Barbuda    0.278404\n",
      "Argentina              0.407145\n",
      "Armenia               -0.091728\n",
      "Australia              1.388800\n",
      "Austria                1.179595\n",
      "Azerbaijan            -0.413582\n",
      "Bahamas               -0.123914\n",
      "Bahrain                0.568072\n",
      "Bangladesh            -0.767622\n",
      "Barbados               0.374960\n",
      "Belarus               -0.494046\n",
      "Belgium                1.050853\n",
      "Belize                -0.333119\n",
      "Benin                 -1.636627\n",
      "Bhutan                -0.896363\n",
      "Bolivia               -0.365304\n",
      "dtype: float64\n"
     ]
    }
   ],
   "source": [
    "print standardize_data(life_expectancy)"
   ]
  },
  {
   "cell_type": "code",
   "execution_count": 51,
   "metadata": {},
   "outputs": [],
   "source": [
    "# print standardize_data(gdp)"
   ]
  },
  {
   "cell_type": "markdown",
   "metadata": {},
   "source": [
    "### Plots of Variables Over Time\n",
    "\n",
    "Panda series were used to create a plot of each variable over time for Canada. The variables include employment rates, female school completion rate, male school completion rate, life expectancy, and gdp. "
   ]
  },
  {
   "cell_type": "code",
   "execution_count": 59,
   "metadata": {
    "scrolled": true
   },
   "outputs": [
    {
     "data": {
      "text/plain": [
       "<matplotlib.text.Text at 0x10c289c90>"
      ]
     },
     "execution_count": 59,
     "metadata": {},
     "output_type": "execute_result"
    },
    {
     "data": {
      "image/png": "[encoded data removed]",
      "text/plain": [
       "<matplotlib.figure.Figure at 0x11b929250>"
      ]
     },
     "metadata": {},
     "output_type": "display_data"
    }
   ],
   "source": [
    "employment_ca.plot()\n",
    "plt.ylabel('Employment rate')"
   ]
  },
  {
   "cell_type": "code",
   "execution_count": 60,
   "metadata": {
    "scrolled": true
   },
   "outputs": [
    {
     "data": {
      "text/plain": [
       "<matplotlib.text.Text at 0x11ba700d0>"
      ]
     },
     "execution_count": 60,
     "metadata": {},
     "output_type": "execute_result"
    },
    {
     "data": {
      "image/png": "[encoded data removed]",
      "text/plain": [
       "<matplotlib.figure.Figure at 0x11ba4bc50>"
      ]
     },
     "metadata": {},
     "output_type": "display_data"
    }
   ],
   "source": [
    "female_completion_ca.plot()\n",
    "plt.ylabel('Female school completion rate')\n"
   ]
  },
  {
   "cell_type": "code",
   "execution_count": 61,
   "metadata": {},
   "outputs": [
    {
     "data": {
      "text/plain": [
       "<matplotlib.text.Text at 0x10dca0610>"
      ]
     },
     "execution_count": 61,
     "metadata": {},
     "output_type": "execute_result"
    },
    {
     "data": {
      "image/png": "[encoded data removed]",
      "text/plain": [
       "<matplotlib.figure.Figure at 0x11baff3d0>"
      ]
     },
     "metadata": {},
     "output_type": "display_data"
    }
   ],
   "source": [
    "male_completion_ca.plot()\n",
    "plt.ylabel('Male school completion rate')"
   ]
  },
  {
   "cell_type": "code",
   "execution_count": 56,
   "metadata": {
    "scrolled": true
   },
   "outputs": [
    {
     "data": {
      "text/plain": [
       "<matplotlib.text.Text at 0x11806cbd0>"
      ]
     },
     "execution_count": 56,
     "metadata": {},
     "output_type": "execute_result"
    },
    {
     "data": {
      "image/png": "[encoded data removed]",
      "text/plain": [
       "<matplotlib.figure.Figure at 0x10c2aefd0>"
      ]
     },
     "metadata": {},
     "output_type": "display_data"
    }
   ],
   "source": [
    "life_expectancy_ca.plot()\n",
    "plt.ylabel('Life expectancy rate')"
   ]
  },
  {
   "cell_type": "code",
   "execution_count": 55,
   "metadata": {
    "scrolled": true
   },
   "outputs": [
    {
     "data": {
      "text/plain": [
       "<matplotlib.text.Text at 0x10c2e0310>"
      ]
     },
     "execution_count": 55,
     "metadata": {},
     "output_type": "execute_result"
    },
    {
     "data": {
      "image/png": "[encoded data removed]",
      "text/plain": [
       "<matplotlib.figure.Figure at 0x10c273f50>"
      ]
     },
     "metadata": {},
     "output_type": "display_data"
    }
   ],
   "source": [
    "gdp_ca.plot()\n",
    "plt.ylabel('GDP in the United States')"
   ]
  },
  {
   "cell_type": "markdown",
   "metadata": {},
   "source": [
    "### GDP and Life Expectancy"
   ]
  },
  {
   "cell_type": "code",
   "execution_count": null,
   "metadata": {
    "collapsed": true,
    "scrolled": true
   },
   "outputs": [],
   "source": [
    "# Import Data\n",
    "countries = ['Albania', 'Algeria', 'Andorra', 'Angola', 'Antigua and Barbuda',\n",
    "             'Argentina', 'Armenia', 'Australia', 'Austria', 'Azerbaijan',\n",
    "             'Bahamas', 'Bahrain', 'Bangladesh', 'Barbados', 'Belarus',\n",
    "             'Belgium', 'Belize', 'Benin', 'Bhutan', 'Bolivia']\n",
    "\n",
    "life_expectancy_values = [74.7,  75. ,  83.4,  57.6,  74.6,  75.4,  72.3,  81.5,  80.2,\n",
    "                          70.3,  72.1,  76.4,  68.1,  75.2,  69.8,  79.4,  70.8,  62.7,\n",
    "                          67.3,  70.6]\n",
    "\n",
    "gdp_values = [ 1681.61390973,   2155.48523109,  21495.80508273,    562.98768478,\n",
    "              13495.1274663 ,   9388.68852258,   1424.19056199,  24765.54890176,\n",
    "              27036.48733192,   1945.63754911,  21721.61840978,  13373.21993972,\n",
    "                483.97086804,   9783.98417323,   2253.46411147,  25034.66692293,\n",
    "               3680.91642923,    366.04496652,   1175.92638695,   1132.21387981]\n",
    "\n",
    "life_expectancy = pd.Series(life_expectancy_values)\n",
    "gdp = pd.Series(gdp_values)"
   ]
  },
  {
   "cell_type": "code",
   "execution_count": null,
   "metadata": {},
   "outputs": [],
   "source": [
    "# Life expectancy summary statistics \n",
    "print \"Mean life expectancy:\", life_expectancy.mean()\n",
    "print \"Standard deviation of the mean life expectancy:\", round(life_expectancy.std(),2)\n",
    "print \"Max life expectancy:\", round(life_expectancy.max(),2)\n",
    "print \"Sum life expectancy:\", round(life_expectancy.sum(),2)\n",
    "print\n",
    "\n",
    "# GDP summary statistics \n",
    "print \"Mean GDP:\", round(gdp.mean(),2)\n",
    "print \"Standard deviation of the mean GDP:\", round(gdp.std(),2)\n",
    "print \"Max GDP:\", round(gdp.max(),2)\n",
    "print \"Sum GDP:\", round(gdp.sum(),2)"
   ]
  },
  {
   "cell_type": "markdown",
   "metadata": {},
   "source": [
    "Looking for the coorelation between two panda series where:\n",
    "* variable1 : The number of countries where both values are above or both are below the mean \n",
    "* variable2 : The number of countries where one value is above and one is below the mean \n"
   ]
  },
  {
   "cell_type": "code",
   "execution_count": null,
   "metadata": {},
   "outputs": [],
   "source": [
    "def variable_correlation(variable1, variable2):\n",
    "    '''\n",
    "    Returns number of data points for when directions of variable1 \n",
    "    and variable2 relative to the mean are the same or different. Direction \n",
    "    here means whether each value is above or below its mean.\n",
    "    '''\n",
    "    # Data points in the same/different direction as boolean \n",
    "    both_above = (variable1 > variable1.mean()) & (variable2 > variable2.mean())\n",
    "    both_below = (variable1 < variable1.mean()) & (variable2 < variable2.mean())\n",
    "    \n",
    "    # If value is equal to the mean \n",
    "    is_same_direction = both_above | both_below \n",
    "    # Add up array of booleans to count number of Trues \n",
    "    num_same_direction = is_same_direction.sum() \n",
    "    \n",
    "    num_different_direction = len(variable1) - num_same_direction\n",
    "    \n",
    "    return (num_same_direction, num_different_direction)\n",
    "\n",
    "# Correlation between life expectancy and GDP\n",
    "variable_correlation(life_expectancy, gdp)"
   ]
  },
  {
   "cell_type": "markdown",
   "metadata": {},
   "source": [
    "#### Positive correlation between GDP and Life Expectancy \n",
    "For our sample set, 17 pairs of data points are going in the same direction, and 3 pairs of data are going in the opposite direction. Since the first number is large and the second number is small, there is a positive correlation. If one number is large whereas the other number was small, then there would be a negative coorelation. If the two numbers were equal, then there would be no correlation."
   ]
  }
 ],
 "metadata": {
  "kernelspec": {
   "display_name": "Python [cats]",
   "language": "python",
   "name": "Python [cats]"
  },
  "language_info": {
   "codemirror_mode": {
    "name": "ipython",
    "version": 2
   },
   "file_extension": ".py",
   "mimetype": "text/x-python",
   "name": "python",
   "nbconvert_exporter": "python",
   "pygments_lexer": "ipython2",
   "version": "2.7.14"
  }
 },
 "nbformat": 4,
 "nbformat_minor": 2
}
